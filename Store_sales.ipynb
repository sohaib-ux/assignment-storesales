{
 "cells": [
  {
   "cell_type": "markdown",
   "id": "d736cf34-e043-4789-91b0-c19887e0143f",
   "metadata": {},
   "source": [
    "# Assignment on Store_sales dataset\n",
    "\n",
    "**Load the Dataset**"
   ]
  },
  {
   "cell_type": "code",
   "execution_count": 42,
   "id": "fd79e268-0bd3-4844-af8d-0b1e2b7ceea6",
   "metadata": {},
   "outputs": [],
   "source": [
    "import pandas as pd\n",
    "df=pd.read_csv(\"store_sales.csv\")"
   ]
  },
  {
   "cell_type": "markdown",
   "id": "13b8009e-28aa-4c56-8804-a6c417182541",
   "metadata": {},
   "source": [
    "**Calculate the total sales for each store across all months.**"
   ]
  },
  {
   "cell_type": "code",
   "execution_count": 40,
   "id": "3f148a00-b0e5-4caf-85d3-3483c4f62697",
   "metadata": {},
   "outputs": [
    {
     "name": "stdout",
     "output_type": "stream",
     "text": [
      "   store_id  Total_Sales\n",
      "0       S_1          178\n",
      "1       S_2          174\n",
      "2       S_3          181\n",
      "3       S_4          135\n",
      "4       S_5          159\n",
      "..      ...          ...\n",
      "95     S_96          185\n",
      "96     S_97          154\n",
      "97     S_98          168\n",
      "98     S_99          173\n",
      "99    S_100          180\n",
      "\n",
      "[100 rows x 2 columns]\n"
     ]
    }
   ],
   "source": [
    "df=pd.read_csv(\"store_sales.csv\")\n",
    "df['Total_Sales'] = df.iloc[:, 2:].sum(axis=1)\n",
    "result = df[['store_id', 'Total_Sales']]\n",
    "print(result)"
   ]
  },
  {
   "cell_type": "markdown",
   "id": "47673b50-bfea-4eb6-9e50-918e87c7c1ff",
   "metadata": {},
   "source": [
    "**Find the average sales for each month across all stores**"
   ]
  },
  {
   "cell_type": "code",
   "execution_count": 44,
   "id": "cfea1028-bd85-4552-ab60-936a13c7d84b",
   "metadata": {},
   "outputs": [
    {
     "name": "stdout",
     "output_type": "stream",
     "text": [
      "Jan     14.46\n",
      "Feb     15.09\n",
      "Mar     14.56\n",
      "Apr     14.57\n",
      "May     13.56\n",
      "Jun     13.80\n",
      "July    14.38\n",
      "Aug     15.81\n",
      "Sep     14.91\n",
      "Oct     14.10\n",
      "Nov     15.31\n",
      "Dec     13.57\n",
      "dtype: float64\n"
     ]
    }
   ],
   "source": [
    "average_sales = df.iloc[:, 2:].mean(axis=0)\n",
    "\n",
    "\n",
    "print(average_sales)"
   ]
  },
  {
   "cell_type": "markdown",
   "id": "6dd912e0-9984-42b8-9bf0-db10a69a300c",
   "metadata": {},
   "source": [
    "**Identify the store with the highest total sales.**"
   ]
  },
  {
   "cell_type": "code",
   "execution_count": 48,
   "id": "dca54b78-dbe5-4095-8e14-e1a73c34dff6",
   "metadata": {},
   "outputs": [
    {
     "name": "stdout",
     "output_type": "stream",
     "text": [
      "Store with the highest total sales:\n",
      "store_id       S_62\n",
      "Total_Sales     428\n",
      "Name: 61, dtype: object\n"
     ]
    }
   ],
   "source": [
    "df['Total_Sales'] = df.iloc[:, 2:].sum(axis=1)\n",
    "highest_sales_store = df.loc[df['Total_Sales'].idxmax()]\n",
    "print(\"Store with the highest total sales:\")\n",
    "print(highest_sales_store[['store_id', 'Total_Sales']])"
   ]
  },
  {
   "cell_type": "markdown",
   "id": "1c6e048a-7dbe-4975-8126-0ff9d46d0b8d",
   "metadata": {},
   "source": [
    "**Calculate the total sales for each city.**"
   ]
  },
  {
   "cell_type": "code",
   "execution_count": 50,
   "id": "98fdf5f3-5721-4353-b34d-713e98c20450",
   "metadata": {},
   "outputs": [
    {
     "name": "stdout",
     "output_type": "stream",
     "text": [
      "Total sales for each city:\n",
      "city\n",
      "Arizona       11853\n",
      "California    22566\n",
      "Texas         17817\n",
      "Name: Total_Sales, dtype: int64\n"
     ]
    }
   ],
   "source": [
    "df['Total_Sales'] = df.iloc[:, 2:].sum(axis=1)\n",
    "\n",
    "city_sales = df.groupby('city')['Total_Sales'].sum()\n",
    "\n",
    "print(\"Total sales for each city:\")\n",
    "print(city_sales)\n"
   ]
  },
  {
   "cell_type": "markdown",
   "id": "b9cd0e10-c37e-485a-9b6b-e6a67cd19c7d",
   "metadata": {},
   "source": [
    "**List stores with total sales greater than 200**"
   ]
  },
  {
   "cell_type": "code",
   "execution_count": 52,
   "id": "a1134ab7-96fe-416c-8da1-daddad0064e6",
   "metadata": {},
   "outputs": [
    {
     "name": "stdout",
     "output_type": "stream",
     "text": [
      "Stores with total sales greater than 200:\n",
      "   store_id  Total_Sales\n",
      "0       S_1          712\n",
      "1       S_2          696\n",
      "2       S_3          724\n",
      "3       S_4          540\n",
      "4       S_5          636\n",
      "..      ...          ...\n",
      "95     S_96          740\n",
      "96     S_97          616\n",
      "97     S_98          672\n",
      "98     S_99          692\n",
      "99    S_100          720\n",
      "\n",
      "[100 rows x 2 columns]\n"
     ]
    }
   ],
   "source": [
    "\n",
    "df['Total_Sales'] = df.iloc[:, 2:].sum(axis=1)\n",
    "\n",
    "stores_with_high_sales = df[df['Total_Sales'] > 200]\n",
    "\n",
    "print(\"Stores with total sales greater than 200:\")\n",
    "print(stores_with_high_sales[['store_id', 'Total_Sales']])\n"
   ]
  },
  {
   "cell_type": "markdown",
   "id": "00a46208-69b2-4577-9f68-c278af43c557",
   "metadata": {},
   "source": [
    "**Which month had the highest average sales across all stores?**\n"
   ]
  },
  {
   "cell_type": "code",
   "execution_count": 60,
   "id": "9b85a613-a4b4-499c-9782-97e585120f52",
   "metadata": {},
   "outputs": [
    {
     "name": "stdout",
     "output_type": "stream",
     "text": [
      " Total_Sales with average sales value of 696.48.\n"
     ]
    }
   ],
   "source": [
    "\n",
    "average_sales_per_month = df.iloc[:, 2:].mean()\n",
    "\n",
    "highest_avg_month = average_sales_per_month.idxmax()\n",
    "highest_avg_value = average_sales_per_month.max()\n",
    "\n",
    "print(f\" {highest_avg_month} with average sales value of {highest_avg_value:.2f}.\")\n"
   ]
  },
  {
   "cell_type": "code",
   "execution_count": null,
   "id": "c46bc5fe-5318-45d2-95ca-e7a9eb0c2010",
   "metadata": {},
   "outputs": [],
   "source": []
  },
  {
   "cell_type": "markdown",
   "id": "37455b7e-1c05-45d5-9dd1-454527319264",
   "metadata": {},
   "source": [
    "**Which city generated the most revenue?**"
   ]
  },
  {
   "cell_type": "code",
   "execution_count": 62,
   "id": "0ceea861-e5f6-4a86-86f0-788d68a898a5",
   "metadata": {},
   "outputs": [
    {
     "name": "stdout",
     "output_type": "stream",
     "text": [
      " California with a total revenue of 37610.\n"
     ]
    }
   ],
   "source": [
    "\n",
    "df['Total_Sales'] = df.iloc[:, 2:].sum(axis=1)\n",
    "\n",
    "\n",
    "city_revenue = df.groupby('city')['Total_Sales'].sum()\n",
    "\n",
    "highest_revenue_city = city_revenue.idxmax()\n",
    "highest_revenue_value = city_revenue.max()\n",
    "\n",
    "print(f\" {highest_revenue_city} with a total revenue of {highest_revenue_value}.\")\n"
   ]
  },
  {
   "cell_type": "code",
   "execution_count": null,
   "id": "96f93861-5fde-47dd-b813-924a86717e1c",
   "metadata": {},
   "outputs": [],
   "source": []
  }
 ],
 "metadata": {
  "kernelspec": {
   "display_name": "Python 3 (ipykernel)",
   "language": "python",
   "name": "python3"
  },
  "language_info": {
   "codemirror_mode": {
    "name": "ipython",
    "version": 3
   },
   "file_extension": ".py",
   "mimetype": "text/x-python",
   "name": "python",
   "nbconvert_exporter": "python",
   "pygments_lexer": "ipython3",
   "version": "3.12.4"
  }
 },
 "nbformat": 4,
 "nbformat_minor": 5
}
